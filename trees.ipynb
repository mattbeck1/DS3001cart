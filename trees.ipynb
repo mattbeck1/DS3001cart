{
 "cells": [
  {
   "cell_type": "markdown",
   "metadata": {},
   "source": [
    "# Classification and Regression Trees\n",
    "## Foundations of Machine Learning\n",
    "## `! git clone https://www.github.com/DS3001/cart`"
   ]
  },
  {
   "cell_type": "code",
   "execution_count": null,
   "metadata": {},
   "outputs": [],
   "source": []
  },
  {
   "cell_type": "markdown",
   "metadata": {
    "jp-MarkdownHeadingCollapsed": true
   },
   "source": [
    "## Trees\n",
    "- We've looked at three models --- $k$NN, $k$ means clustering, linear models --- that each offer different approaches to machine learning\n",
    "- The last algorithm we'll consider is called a *classification/regression tree* or *decision tree*, a supervised learning algorithm for regression and classification\n",
    "- To me they feel like a combination of all the previous methods that is intended to accommodate highly non-linear relationships in high-dimensional or highly categorical data"
   ]
  },
  {
   "cell_type": "markdown",
   "metadata": {
    "jp-MarkdownHeadingCollapsed": true
   },
   "source": [
    "## Trees\n",
    "- There are $N$ observations of data $X$ and outcomes $y$ (same setup as $k$NN and linear models)\n",
    "- We want to use $X$ to predict $\\hat{y}$ for future values $\\hat{x}$ (supervised learning)\n",
    "- A *decision tree* is\n",
    "  1. A set of *decision nodes* that represent choices\n",
    "  2. A set of edges that represent *decisions* at each decision node (data-driven choices)\n",
    "  3. A set of *terminal nodes* or *outcomes* (predictions or courses of action)\n",
    "- The goal is to build a decision tree using data that predicts outcomes (classification or regression) for future cases\n",
    "- Some people get frisky about whether it's called a *decision tree* or a *classification/regression tree*; I suppose they have a point"
   ]
  },
  {
   "cell_type": "markdown",
   "metadata": {},
   "source": [
    "## Example: Divorce Data\n",
    "- There are 54 questions, with Likert-scale-type 0--4 response values (0=Strongly Agree, 1=Agree, 2=Neutral, 3=Disagree, 4=Never), and an outcome of divorce/married\n",
    "- You *could* make this into a linear model by interacting all of the pairs and triples and tuples of the questions together, but it would be wildly overfit and uninterpretable. It's unclear what $k$NN would be doing, since the \"distances\" are arbitrary and using the Euclidean distance would weight all of the questions equally (some are pretty trivial)\n",
    "- Instead, you can fit a decision tree to predict marriage outcomes on the basis of the questions, which seems much more natural and reliable\n",
    "- In diagnostic settings, this is extremely popular"
   ]
  },
  {
   "cell_type": "code",
   "execution_count": 2,
   "metadata": {},
   "outputs": [
    {
     "data": {
      "text/html": [
       "<div>\n",
       "<style scoped>\n",
       "    .dataframe tbody tr th:only-of-type {\n",
       "        vertical-align: middle;\n",
       "    }\n",
       "\n",
       "    .dataframe tbody tr th {\n",
       "        vertical-align: top;\n",
       "    }\n",
       "\n",
       "    .dataframe thead th {\n",
       "        text-align: right;\n",
       "    }\n",
       "</style>\n",
       "<table border=\"1\" class=\"dataframe\">\n",
       "  <thead>\n",
       "    <tr style=\"text-align: right;\">\n",
       "      <th></th>\n",
       "      <th>Q1</th>\n",
       "      <th>Q2</th>\n",
       "      <th>Q3</th>\n",
       "      <th>Q4</th>\n",
       "      <th>Q5</th>\n",
       "      <th>Q6</th>\n",
       "      <th>Q7</th>\n",
       "      <th>Q8</th>\n",
       "      <th>Q9</th>\n",
       "      <th>Q10</th>\n",
       "      <th>...</th>\n",
       "      <th>Q46</th>\n",
       "      <th>Q47</th>\n",
       "      <th>Q48</th>\n",
       "      <th>Q49</th>\n",
       "      <th>Q50</th>\n",
       "      <th>Q51</th>\n",
       "      <th>Q52</th>\n",
       "      <th>Q53</th>\n",
       "      <th>Q54</th>\n",
       "      <th>Divorce</th>\n",
       "    </tr>\n",
       "  </thead>\n",
       "  <tbody>\n",
       "    <tr>\n",
       "      <th>0</th>\n",
       "      <td>2</td>\n",
       "      <td>2</td>\n",
       "      <td>4</td>\n",
       "      <td>1</td>\n",
       "      <td>0</td>\n",
       "      <td>0</td>\n",
       "      <td>0</td>\n",
       "      <td>0</td>\n",
       "      <td>0</td>\n",
       "      <td>0</td>\n",
       "      <td>...</td>\n",
       "      <td>2</td>\n",
       "      <td>1</td>\n",
       "      <td>3</td>\n",
       "      <td>3</td>\n",
       "      <td>3</td>\n",
       "      <td>2</td>\n",
       "      <td>3</td>\n",
       "      <td>2</td>\n",
       "      <td>1</td>\n",
       "      <td>1</td>\n",
       "    </tr>\n",
       "    <tr>\n",
       "      <th>1</th>\n",
       "      <td>4</td>\n",
       "      <td>4</td>\n",
       "      <td>4</td>\n",
       "      <td>4</td>\n",
       "      <td>4</td>\n",
       "      <td>0</td>\n",
       "      <td>0</td>\n",
       "      <td>4</td>\n",
       "      <td>4</td>\n",
       "      <td>4</td>\n",
       "      <td>...</td>\n",
       "      <td>2</td>\n",
       "      <td>2</td>\n",
       "      <td>3</td>\n",
       "      <td>4</td>\n",
       "      <td>4</td>\n",
       "      <td>4</td>\n",
       "      <td>4</td>\n",
       "      <td>2</td>\n",
       "      <td>2</td>\n",
       "      <td>1</td>\n",
       "    </tr>\n",
       "    <tr>\n",
       "      <th>2</th>\n",
       "      <td>2</td>\n",
       "      <td>2</td>\n",
       "      <td>2</td>\n",
       "      <td>2</td>\n",
       "      <td>1</td>\n",
       "      <td>3</td>\n",
       "      <td>2</td>\n",
       "      <td>1</td>\n",
       "      <td>1</td>\n",
       "      <td>2</td>\n",
       "      <td>...</td>\n",
       "      <td>3</td>\n",
       "      <td>2</td>\n",
       "      <td>3</td>\n",
       "      <td>1</td>\n",
       "      <td>1</td>\n",
       "      <td>1</td>\n",
       "      <td>2</td>\n",
       "      <td>2</td>\n",
       "      <td>2</td>\n",
       "      <td>1</td>\n",
       "    </tr>\n",
       "    <tr>\n",
       "      <th>3</th>\n",
       "      <td>3</td>\n",
       "      <td>2</td>\n",
       "      <td>3</td>\n",
       "      <td>2</td>\n",
       "      <td>3</td>\n",
       "      <td>3</td>\n",
       "      <td>3</td>\n",
       "      <td>3</td>\n",
       "      <td>3</td>\n",
       "      <td>3</td>\n",
       "      <td>...</td>\n",
       "      <td>2</td>\n",
       "      <td>2</td>\n",
       "      <td>3</td>\n",
       "      <td>3</td>\n",
       "      <td>3</td>\n",
       "      <td>3</td>\n",
       "      <td>2</td>\n",
       "      <td>2</td>\n",
       "      <td>2</td>\n",
       "      <td>1</td>\n",
       "    </tr>\n",
       "    <tr>\n",
       "      <th>4</th>\n",
       "      <td>2</td>\n",
       "      <td>2</td>\n",
       "      <td>1</td>\n",
       "      <td>1</td>\n",
       "      <td>1</td>\n",
       "      <td>1</td>\n",
       "      <td>0</td>\n",
       "      <td>0</td>\n",
       "      <td>0</td>\n",
       "      <td>0</td>\n",
       "      <td>...</td>\n",
       "      <td>2</td>\n",
       "      <td>1</td>\n",
       "      <td>2</td>\n",
       "      <td>3</td>\n",
       "      <td>2</td>\n",
       "      <td>2</td>\n",
       "      <td>2</td>\n",
       "      <td>1</td>\n",
       "      <td>0</td>\n",
       "      <td>1</td>\n",
       "    </tr>\n",
       "  </tbody>\n",
       "</table>\n",
       "<p>5 rows × 55 columns</p>\n",
       "</div>"
      ],
      "text/plain": [
       "   Q1  Q2  Q3  Q4  Q5  Q6  Q7  Q8  Q9  Q10  ...  Q46  Q47  Q48  Q49  Q50  Q51  \\\n",
       "0   2   2   4   1   0   0   0   0   0    0  ...    2    1    3    3    3    2   \n",
       "1   4   4   4   4   4   0   0   4   4    4  ...    2    2    3    4    4    4   \n",
       "2   2   2   2   2   1   3   2   1   1    2  ...    3    2    3    1    1    1   \n",
       "3   3   2   3   2   3   3   3   3   3    3  ...    2    2    3    3    3    3   \n",
       "4   2   2   1   1   1   1   0   0   0    0  ...    2    1    2    3    2    2   \n",
       "\n",
       "   Q52  Q53  Q54  Divorce  \n",
       "0    3    2    1        1  \n",
       "1    4    2    2        1  \n",
       "2    2    2    2        1  \n",
       "3    2    2    2        1  \n",
       "4    2    1    0        1  \n",
       "\n",
       "[5 rows x 55 columns]"
      ]
     },
     "execution_count": 2,
     "metadata": {},
     "output_type": "execute_result"
    }
   ],
   "source": [
    "import numpy as  np\n",
    "import pandas as pd\n",
    "import seaborn as sns\n",
    "import matplotlib.pyplot as plt\n",
    "\n",
    "df = pd.read_csv('./data/divorce/divorce_data.csv',sep=';') # Load divorce data\n",
    "df.head()"
   ]
  },
  {
   "cell_type": "code",
   "execution_count": 3,
   "metadata": {},
   "outputs": [
    {
     "data": {
      "text/plain": [
       "[Text(223.20000000000002, 190.26, 'X[17] <= 1.5\\ngini = 0.5\\nsamples = 170\\nvalue = [86, 84]'),\n",
       " Text(167.4, 135.9, 'X[25] <= 1.5\\ngini = 0.065\\nsamples = 89\\nvalue = [86, 3]'),\n",
       " Text(111.60000000000001, 81.53999999999999, 'X[39] <= 2.5\\ngini = 0.023\\nsamples = 87\\nvalue = [86, 1]'),\n",
       " Text(55.800000000000004, 27.180000000000007, 'gini = 0.0\\nsamples = 86\\nvalue = [86, 0]'),\n",
       " Text(167.4, 27.180000000000007, 'gini = 0.0\\nsamples = 1\\nvalue = [0, 1]'),\n",
       " Text(223.20000000000002, 81.53999999999999, 'gini = 0.0\\nsamples = 2\\nvalue = [0, 2]'),\n",
       " Text(279.0, 135.9, 'gini = 0.0\\nsamples = 81\\nvalue = [0, 81]')]"
      ]
     },
     "execution_count": 3,
     "metadata": {},
     "output_type": "execute_result"
    },
    {
     "data": {
      "image/png": "[encoded data removed]",
      "text/plain": [
       "<Figure size 432x288 with 1 Axes>"
      ]
     },
     "metadata": {
      "needs_background": "light"
     },
     "output_type": "display_data"
    }
   ],
   "source": [
    "from sklearn import tree # Import the tree classifier\n",
    "\n",
    "# Process data:\n",
    "y = df['Divorce']\n",
    "X = df.drop(['Divorce'], axis=1)\n",
    "\n",
    "# Fit decision tree:\n",
    "cart = tree.DecisionTreeClassifier() # Create a classifier object\n",
    "cart = cart.fit(X, y) # Fit the classifier\n",
    "\n",
    "# Visualize results:\n",
    "tree.plot_tree(cart,filled=True) "
   ]
  },
  {
   "cell_type": "markdown",
   "metadata": {},
   "source": [
    "## Selected Questions\n",
    "- Decision trees are typically represented with a *dendrogram*, the plot on the previous slide; these are a popular way of visualizing hierarchical or acyclic relationships:\n",
    "    - 18. My spouse and I have similar ideas about how marriage should be (High value predicts divorce)\n",
    "    - 26. I know my spouse's basic concerns. (High value predicts divorce)\n",
    "    - 40. We are just starting a fight before I know what is going on. (High value predicts divorce)\n",
    "- Seems about right? Maybe the last question is overfitting?"
   ]
  },
  {
   "cell_type": "markdown",
   "metadata": {},
   "source": [
    "## Did it \"work\"?\n",
    "- Before we go under the hood of the algorithm, we might want to think a bit about what \"good performance\" means\n",
    "- Like with $k$MC or $k$NN, this is a greedy kind of algorithm: Left to its own devices, it searches for a perfect split of the data, where the terminal nodes are as pure as possible in terms of classification\n",
    "- In practice, this often means that it is a perfect predictor on the training data\n",
    "- In situations like this, we are in the familiar situation of having to split into training and testing data in order to be able to make sense of the question, \"How well is the algorithm performing?\""
   ]
  },
  {
   "cell_type": "markdown",
   "metadata": {},
   "source": [
    "## The Confusion Matrix\n",
    "- The analog of `SSE` and $R^2$ for classification is, roughly the **confusion matrix**\n",
    "-  We cross tabulate the actual values for \n",
    "|  | Predicted Negative | Predicted Positive|\n",
    "| :---: | :---:| :---: |\n",
    "| Actual Negative | True Negative (TN) | False Positive (FP) |\n",
    "| Actual Positive | False Negative (FN) | True Positive (TP) |\n",
    "- The simplest metric of success with a confusion table is **Accuracy**: The proportion of predictions that were correct, or\n",
    "$$ \\text{Accuracy} = \\dfrac{TN+TP}{TN+FP+FN+TP} $$\n",
    "Later, we'll talk about the hundreds of other such metrics."
   ]
  },
  {
   "cell_type": "code",
   "execution_count": 4,
   "metadata": {},
   "outputs": [
    {
     "name": "stdout",
     "output_type": "stream",
     "text": [
      "Accuracy:  0.9117647058823529 \n",
      "\n"
     ]
    },
    {
     "data": {
      "text/html": [
       "<div>\n",
       "<style scoped>\n",
       "    .dataframe tbody tr th:only-of-type {\n",
       "        vertical-align: middle;\n",
       "    }\n",
       "\n",
       "    .dataframe tbody tr th {\n",
       "        vertical-align: top;\n",
       "    }\n",
       "\n",
       "    .dataframe thead th {\n",
       "        text-align: right;\n",
       "    }\n",
       "</style>\n",
       "<table border=\"1\" class=\"dataframe\">\n",
       "  <thead>\n",
       "    <tr style=\"text-align: right;\">\n",
       "      <th>col_0</th>\n",
       "      <th>0</th>\n",
       "      <th>1</th>\n",
       "    </tr>\n",
       "    <tr>\n",
       "      <th>Divorce</th>\n",
       "      <th></th>\n",
       "      <th></th>\n",
       "    </tr>\n",
       "  </thead>\n",
       "  <tbody>\n",
       "    <tr>\n",
       "      <th>0</th>\n",
       "      <td>15</td>\n",
       "      <td>1</td>\n",
       "    </tr>\n",
       "    <tr>\n",
       "      <th>1</th>\n",
       "      <td>2</td>\n",
       "      <td>16</td>\n",
       "    </tr>\n",
       "  </tbody>\n",
       "</table>\n",
       "</div>"
      ],
      "text/plain": [
       "col_0     0   1\n",
       "Divorce        \n",
       "0        15   1\n",
       "1         2  16"
      ]
     },
     "execution_count": 4,
     "metadata": {},
     "output_type": "execute_result"
    }
   ],
   "source": [
    "## Splitting the Sample into Train/Test Sets:\n",
    "from sklearn.model_selection import train_test_split\n",
    "\n",
    "## Preprocess Data:\n",
    "y = df['Divorce']\n",
    "X = df.drop(['Divorce'], axis=1)\n",
    "\n",
    "## Split the Sample into Training and Testing Sets:\n",
    "X_train, X_test, y_train, y_test = train_test_split(X,y,test_size=.2,random_state=104)\n",
    "\n",
    "## Fit the Model\n",
    "from sklearn import tree # Import the tree classifier\n",
    "cart = tree.DecisionTreeClassifier() # Create a classifier object\n",
    "cart = cart.fit(X_train, y_train) # Fit the classifier\n",
    "\n",
    "## Make Predictions on the Test Set\n",
    "y_hat = cart.predict(X_test)\n",
    "\n",
    "## Confusion Matrix\n",
    "tab = pd.crosstab(y_test,y_hat) # Compute confusion matrix\n",
    "acc = (tab.iloc[0,0]+tab.iloc[1,1])/(tab.iloc[0,0]+tab.iloc[1,1]+tab.iloc[0,1]+tab.iloc[1,0]) # Compute Accuracy\n",
    "print('Accuracy: ', acc, '\\n')\n",
    "pd.crosstab(y_test,y_hat)"
   ]
  },
  {
   "cell_type": "markdown",
   "metadata": {},
   "source": [
    "## Performance\n",
    "- Since the first question is so diagnostically powerful, the accuracy of the tree is around 91.2%\n",
    "- If the performance of the tree was unsatisfactory on the test set, there are things we could do:\n",
    "    - If we think the tree is overfitting, we could truncate the tree and limit its depth, so that it isn't making splits on very fine distinctions among a handful of observations \n",
    "    - If we think the tree is underfitting, we could program it to avoid making splits that make the subsequent populations too pure, so that it has to use more questions and provide a richer and more complex tree\n",
    "- This is a funny case in which I think both criticisms probably apply"
   ]
  },
  {
   "cell_type": "markdown",
   "metadata": {
    "jp-MarkdownHeadingCollapsed": true
   },
   "source": [
    "## Examples\n",
    "- Diagnostic tests in medical settings (symptoms/test results $\\rightarrow$ diagnosis)\n",
    "- Any situation where most of the data are mostly categorical rather than numeric\n",
    "- High-dimensional data where variable selection for linear model is too difficult or where the arbitrariness of the distance metric in $k$NN is a concern"
   ]
  },
  {
   "cell_type": "markdown",
   "metadata": {},
   "source": [
    "## Splits\n",
    "- How do we build a tree?\n",
    "- To understand the mechanics of building a tree, we need to think about \"splitting\" data\n",
    "- In the divorce situation, imagine you are trying to use a particular question, say $Q18$, to split the respondents $i = 1, ..., N$ into two groups:\n",
    "- As you vary the cutoff response from 1 to 3, you break the $N$ respondents into two groups: Those strictly below the cutoff and those weakly above it\n",
    "    - Cutoff at 1: $\\{0\\}$ and $\\{1, 2, 3, 4\\}$\n",
    "    - Cutoff at 2: $\\{0,1\\}$ and $\\{2,3,4\\}$\n",
    "    - Cutoff at 3: $\\{0,1,2\\}$ and $\\{3,4\\}$\n",
    "    - Cutoff at 4: $\\{0,1,2,3\\}$ and $\\{4\\}$\n",
    "- Let's look at the frequencies in the bins for $Q18$ for an example"
   ]
  },
  {
   "cell_type": "code",
   "execution_count": 5,
   "metadata": {},
   "outputs": [
    {
     "data": {
      "text/html": [
       "<div>\n",
       "<style scoped>\n",
       "    .dataframe tbody tr th:only-of-type {\n",
       "        vertical-align: middle;\n",
       "    }\n",
       "\n",
       "    .dataframe tbody tr th {\n",
       "        vertical-align: top;\n",
       "    }\n",
       "\n",
       "    .dataframe thead th {\n",
       "        text-align: right;\n",
       "    }\n",
       "</style>\n",
       "<table border=\"1\" class=\"dataframe\">\n",
       "  <thead>\n",
       "    <tr style=\"text-align: right;\">\n",
       "      <th>Q18</th>\n",
       "      <th>0</th>\n",
       "      <th>1</th>\n",
       "      <th>2</th>\n",
       "      <th>3</th>\n",
       "      <th>4</th>\n",
       "    </tr>\n",
       "    <tr>\n",
       "      <th>Divorce</th>\n",
       "      <th></th>\n",
       "      <th></th>\n",
       "      <th></th>\n",
       "      <th></th>\n",
       "      <th></th>\n",
       "    </tr>\n",
       "  </thead>\n",
       "  <tbody>\n",
       "    <tr>\n",
       "      <th>0</th>\n",
       "      <td>78</td>\n",
       "      <td>8</td>\n",
       "      <td>0</td>\n",
       "      <td>0</td>\n",
       "      <td>0</td>\n",
       "    </tr>\n",
       "    <tr>\n",
       "      <th>1</th>\n",
       "      <td>1</td>\n",
       "      <td>2</td>\n",
       "      <td>16</td>\n",
       "      <td>44</td>\n",
       "      <td>21</td>\n",
       "    </tr>\n",
       "  </tbody>\n",
       "</table>\n",
       "</div>"
      ],
      "text/plain": [
       "Q18       0  1   2   3   4\n",
       "Divorce                   \n",
       "0        78  8   0   0   0\n",
       "1         1  2  16  44  21"
      ]
     },
     "execution_count": 5,
     "metadata": {},
     "output_type": "execute_result"
    }
   ],
   "source": [
    "pd.crosstab(y,X.iloc[:,17])"
   ]
  },
  {
   "cell_type": "markdown",
   "metadata": {
    "jp-MarkdownHeadingCollapsed": true
   },
   "source": [
    "## Splits\n",
    "- As you vary the cutoff, what is the proportion of couples strictly below and weakly above the cutoff that divorce?\n",
    "  - With a cutoff of 1, the divorce proportion for 0's is $1/79= .013$, but for $\\{1,2,3,4\\}$ it's $83/91 = .912$.\n",
    "  - With a cutoff of 2, the divorce proportion for $\\{0,1\\}$ is $3/89=.034$, but for $\\{2,3,4\\}$ it's $81/81=1$.\n",
    "  - With a cutoff of 3, the divorce proportion for $\\{0,1,2\\}$ is $19/105=.181$, but for $\\{3,4\\}$ it's $65/65=1$.\n",
    "  - With a cutoff of 4, the divorce proportion for $\\{0,1,2,3\\}$ is $63/149=.423$, but for $\\{4\\}$ it's $21/21=1$.\n",
    "- Which splits result in two groups are \"most alike\"? Which are \"most different\"?"
   ]
  },
  {
   "cell_type": "markdown",
   "metadata": {},
   "source": [
    "## Mixing\n",
    "- What we want is to create groups that are \"as different as possible\" from each other --- ideally, one group would have 0% divorces and the other would have 100% divorces: That's a perfect predictor\n",
    "- What we do not want is groups that have similar proportions to one another: If one group is 50% and the other is 50%, our predictor/split is not distinguishing the two groups at all\n",
    "- So our \"ideal error\" curve would be largest and single-peaked at 1/2, 0 at 0, 0 at 1, and otherwise smooth/continuous. $x(1-x)$ is the easiest way to do this:"
   ]
  },
  {
   "cell_type": "code",
   "execution_count": 6,
   "metadata": {},
   "outputs": [
    {
     "data": {
      "image/png": "[encoded data removed]",
      "text/plain": [
       "<Figure size 432x288 with 1 Axes>"
      ]
     },
     "metadata": {
      "needs_background": "light"
     },
     "output_type": "display_data"
    }
   ],
   "source": [
    "x = np.linspace(0,1,35)\n",
    "y = x*(1-x)\n",
    "\n",
    "plt.plot(x,y, label ='Gini Impurity')\n",
    "plt.xlabel(\"Proportion\")\n",
    "plt.ylabel(\"Gini\")\n",
    "plt.legend(loc='upper left')\n",
    "plt.title('Gini Impurity')\n",
    "plt.show()"
   ]
  },
  {
   "cell_type": "markdown",
   "metadata": {},
   "source": [
    "## Gini Impurity\n",
    "- For each group $g$ created by the split, we compute the proportion of divorces, $p_g$, compute $p_g(1-p_g)$, and sum over the groups $g$:\n",
    "```{r}\n",
    ".013*(1-.013) + .912*(1-.912) # Split into {0}, {1,2,3,4}\n",
    ".034*(1-.034) + 1*(1-1) # Split into {0,1}, {2,3,4}\n",
    ".181*(1-.181) + 1*(1-1) # Split into {0,1,2}, {3,4}\n",
    ".423*(1-.423) + 1*(1-1) # Split into {0,1,3,4}, {4}\n",
    "```\n",
    "- The split with the lowest Gini impurity is 2 --- the first split in the decision tree at the beginning of the lecture"
   ]
  },
  {
   "cell_type": "code",
   "execution_count": 7,
   "metadata": {},
   "outputs": [
    {
     "name": "stdout",
     "output_type": "stream",
     "text": [
      "0.09308699999999996 0.032844 0.14823899999999998 0.24407099999999998\n"
     ]
    }
   ],
   "source": [
    "s1 = .013*(1-.013) + .912*(1-.912) # Split into {0}, {1,2,3,4}\n",
    "s2 = .034*(1-.034) + 1*(1-1) # Split into {0,1}, {2,3,4}\n",
    "s3 = .181*(1-.181) + 1*(1-1) # Split into {0,1,2}, {3,4}\n",
    "s4 = .423*(1-.423) + 1*(1-1) # Split into {0,1,3,4}, {4}\n",
    "print(s1,s2,s3,s4)"
   ]
  },
  {
   "cell_type": "markdown",
   "metadata": {},
   "source": [
    "## The Divorce Example: Subsequent Splits\n",
    "- If $Q18$ is greater than 2, all of those couples get divorced --- there's no further learning to do\n",
    "- If $Q18$ is strictly less than 2, there are divorces, and we repeat the process, splitting the subpopulation to minimize Gini impurity\n",
    "- $Q26$ is the next question that is optimal to split on, but in principle we would look at all the possible variables (including ones previously used)"
   ]
  },
  {
   "cell_type": "code",
   "execution_count": 8,
   "metadata": {},
   "outputs": [
    {
     "data": {
      "text/html": [
       "<div>\n",
       "<style scoped>\n",
       "    .dataframe tbody tr th:only-of-type {\n",
       "        vertical-align: middle;\n",
       "    }\n",
       "\n",
       "    .dataframe tbody tr th {\n",
       "        vertical-align: top;\n",
       "    }\n",
       "\n",
       "    .dataframe thead th {\n",
       "        text-align: right;\n",
       "    }\n",
       "</style>\n",
       "<table border=\"1\" class=\"dataframe\">\n",
       "  <thead>\n",
       "    <tr style=\"text-align: right;\">\n",
       "      <th>Q26</th>\n",
       "      <th>0</th>\n",
       "      <th>1</th>\n",
       "      <th>2</th>\n",
       "    </tr>\n",
       "    <tr>\n",
       "      <th>Divorce</th>\n",
       "      <th></th>\n",
       "      <th></th>\n",
       "      <th></th>\n",
       "    </tr>\n",
       "  </thead>\n",
       "  <tbody>\n",
       "    <tr>\n",
       "      <th>0</th>\n",
       "      <td>68</td>\n",
       "      <td>17</td>\n",
       "      <td>0</td>\n",
       "    </tr>\n",
       "    <tr>\n",
       "      <th>1</th>\n",
       "      <td>1</td>\n",
       "      <td>0</td>\n",
       "      <td>1</td>\n",
       "    </tr>\n",
       "  </tbody>\n",
       "</table>\n",
       "</div>"
      ],
      "text/plain": [
       "Q26       0   1  2\n",
       "Divorce           \n",
       "0        68  17  0\n",
       "1         1   0  1"
      ]
     },
     "execution_count": 8,
     "metadata": {},
     "output_type": "execute_result"
    }
   ],
   "source": [
    "y = df['Divorce']\n",
    "X = df.drop(['Divorce'], axis=1)\n",
    "\n",
    "pd.crosstab( y[X['Q17']<2], X.loc[X['Q18']<2,'Q26'] )"
   ]
  },
  {
   "cell_type": "code",
   "execution_count": 9,
   "metadata": {},
   "outputs": [
    {
     "name": "stdout",
     "output_type": "stream",
     "text": [
      "Q1        0  1  2  3  4\n",
      "Divorce                \n",
      "0        68  8  6  2  2\n",
      "1         1  0  2  0  0 \n",
      "\n",
      "Q2        0   1  2  3\n",
      "Divorce              \n",
      "0        57  21  5  3\n",
      "1         1   0  2  0 \n",
      "\n",
      "Q3        0   1   2  3  4\n",
      "Divorce                  \n",
      "0        51  20  11  3  1\n",
      "1         0   2   0  0  1 \n",
      "\n",
      "Q4        0  1  2  4\n",
      "Divorce             \n",
      "0        73  9  1  3\n",
      "1         1  2  0  0 \n",
      "\n",
      "Q5        0  1  2\n",
      "Divorce          \n",
      "0        79  5  2\n",
      "1         2  1  0 \n",
      "\n",
      "Q6        0   1  2  4\n",
      "Divorce              \n",
      "0        64  14  7  1\n",
      "1         1   1  1  0 \n",
      "\n",
      "Q7        0  1\n",
      "Divorce       \n",
      "0        85  1\n",
      "1         3  0 \n",
      "\n",
      "Q8        0  1  2\n",
      "Divorce          \n",
      "0        77  7  2\n",
      "1         3  0  0 \n",
      "\n",
      "Q9        0  1\n",
      "Divorce       \n",
      "0        81  5\n",
      "1         3  0 \n",
      "\n",
      "Q10       0   1  2\n",
      "Divorce           \n",
      "0        60  17  9\n",
      "1         2   1  0 \n",
      "\n",
      "Q11       0   1\n",
      "Divorce        \n",
      "0        69  17\n",
      "1         2   1 \n",
      "\n",
      "Q12       0   1  2\n",
      "Divorce           \n",
      "0        56  26  4\n",
      "1         1   1  1 \n",
      "\n",
      "Q13       0   1  2  3\n",
      "Divorce              \n",
      "0        45  31  9  1\n",
      "1         1   2  0  0 \n",
      "\n",
      "Q14       0   1  2\n",
      "Divorce           \n",
      "0        63  21  2\n",
      "1         1   2  0 \n",
      "\n",
      "Q15       0   1  2\n",
      "Divorce           \n",
      "0        68  16  2\n",
      "1         1   1  1 \n",
      "\n",
      "Q16       0   1  2\n",
      "Divorce           \n",
      "0        73  12  1\n",
      "1         1   2  0 \n",
      "\n",
      "Q17       0   1  2\n",
      "Divorce           \n",
      "0        72  13  1\n",
      "1         1   1  1 \n",
      "\n",
      "Q18       0  1\n",
      "Divorce       \n",
      "0        78  8\n",
      "1         1  2 \n",
      "\n",
      "Q19       0   1  2\n",
      "Divorce           \n",
      "0        75  10  1\n",
      "1         2   0  1 \n",
      "\n",
      "Q20       0  1\n",
      "Divorce       \n",
      "0        80  6\n",
      "1         0  3 \n",
      "\n",
      "Q21       0   1\n",
      "Divorce        \n",
      "0        73  13\n",
      "1         2   1 \n",
      "\n",
      "Q22       0  1\n",
      "Divorce       \n",
      "0        80  6\n",
      "1         3  0 \n",
      "\n",
      "Q23       0  1  2\n",
      "Divorce          \n",
      "0        81  3  2\n",
      "1         3  0  0 \n",
      "\n",
      "Q24       0   1  2\n",
      "Divorce           \n",
      "0        68  13  5\n",
      "1         3   0  0 \n",
      "\n",
      "Q25       0   1  2\n",
      "Divorce           \n",
      "0        58  27  1\n",
      "1         2   0  1 \n",
      "\n",
      "Q26       0   1  2\n",
      "Divorce           \n",
      "0        69  17  0\n",
      "1         1   0  2 \n",
      "\n",
      "Q27       0   1\n",
      "Divorce        \n",
      "0        73  13\n",
      "1         2   1 \n",
      "\n",
      "Q28       0  1  2\n",
      "Divorce          \n",
      "0        79  7  0\n",
      "1         2  0  1 \n",
      "\n",
      "Q29       0  1\n",
      "Divorce       \n",
      "0        78  8\n",
      "1         2  1 \n",
      "\n",
      "Q30       0   1  2\n",
      "Divorce           \n",
      "0        70  15  1\n",
      "1         1   2  0 \n",
      "\n",
      "Q31       0   1   2  4\n",
      "Divorce               \n",
      "0        42  22  19  3\n",
      "1         0   2   0  1 \n",
      "\n",
      "Q32       0   1  2  3  4\n",
      "Divorce                 \n",
      "0        46  25  9  4  2\n",
      "1         0   2  1  0  0 \n",
      "\n",
      "Q33       0   1  2  3  4\n",
      "Divorce                 \n",
      "0        68  14  2  1  1\n",
      "1         0   3  0  0  0 \n",
      "\n",
      "Q34       0   1  2  3  4\n",
      "Divorce                 \n",
      "0        48  31  5  1  1\n",
      "1         0   2  1  0  0 \n",
      "\n",
      "Q35       0  1  3\n",
      "Divorce          \n",
      "0        79  6  1\n",
      "1         2  1  0 \n",
      "\n",
      "Q36       0  1\n",
      "Divorce       \n",
      "0        83  3\n",
      "1         1  2 \n",
      "\n",
      "Q37       0   1  2  4\n",
      "Divorce              \n",
      "0        48  28  7  3\n",
      "1         1   1  1  0 \n",
      "\n",
      "Q38       0   1  2  3\n",
      "Divorce              \n",
      "0        61  21  3  1\n",
      "1         1   1  1  0 \n",
      "\n",
      "Q39       0   1  2  3  4\n",
      "Divorce                 \n",
      "0        49  27  9  0  1\n",
      "1         1   0  1  1  0 \n",
      "\n",
      "Q40       0   1  2  3\n",
      "Divorce              \n",
      "0        71  12  3  0\n",
      "1         0   1  1  1 \n",
      "\n",
      "Q41       0   1  2  3\n",
      "Divorce              \n",
      "0        54  24  7  1\n",
      "1         1   0  2  0 \n",
      "\n",
      "Q42       0   1   2  3  4\n",
      "Divorce                  \n",
      "0        43  13  20  6  4\n",
      "1         0   2   1  0  0 \n",
      "\n",
      "Q43       0   1   2   3   4\n",
      "Divorce                    \n",
      "0        14  16  29  14  13\n",
      "1         0   1   1   1   0 \n",
      "\n",
      "Q44       0   1   2  3  4\n",
      "Divorce                  \n",
      "0        58  14  12  0  2\n",
      "1         1   0   1  1  0 \n",
      "\n",
      "Q45       0   1   2   3   4\n",
      "Divorce                    \n",
      "0        24  22  14  12  14\n",
      "1         1   0   1   1   0 \n",
      "\n",
      "Q46       0   1   2   3   4\n",
      "Divorce                    \n",
      "0        18  15  17  25  11\n",
      "1         0   0   3   0   0 \n",
      "\n",
      "Q47       0   1   2  3  4\n",
      "Divorce                  \n",
      "0        30  28  13  7  8\n",
      "1         0   2   1  0  0 \n",
      "\n",
      "Q48       0  1   2   3  4\n",
      "Divorce                  \n",
      "0        10  8  42  20  6\n",
      "1         0  1   1   1  0 \n",
      "\n",
      "Q49       0   1   2   3  4\n",
      "Divorce                   \n",
      "0        28  26  17  10  5\n",
      "1         0   0   1   2  0 \n",
      "\n",
      "Q50       0   1   2  3  4\n",
      "Divorce                  \n",
      "0        19  27  31  6  3\n",
      "1         0   1   1  1  0 \n",
      "\n",
      "Q51       0   1   2  3  4\n",
      "Divorce                  \n",
      "0        12  24  38  9  3\n",
      "1         0   1   2  0  0 \n",
      "\n",
      "Q52       0   1   2   3  4\n",
      "Divorce                   \n",
      "0        23  23  17  14  9\n",
      "1         0   1   1   1  0 \n",
      "\n",
      "Q53       0   1   2  3  4\n",
      "Divorce                  \n",
      "0        31  25  18  7  5\n",
      "1         0   1   2  0  0 \n",
      "\n",
      "Q54       0   1   2  3  4\n",
      "Divorce                  \n",
      "0        46  24  14  1  1\n",
      "1         2   1   0  0  0 \n",
      "\n"
     ]
    }
   ],
   "source": [
    "y_k = y[X['Q18']<2]\n",
    "\n",
    "for k in range( X.shape[1]) : \n",
    "        X_k = X[X['Q18']<2].iloc[:,k]\n",
    "        print(pd.crosstab( y_k, X_k ), '\\n')"
   ]
  },
  {
   "cell_type": "markdown",
   "metadata": {},
   "source": [
    "- We can look through our remaining predictors to determine if there is one that can best further split the sub-population\n",
    "- This iterative process creates a multi-step prediction algorithm, called a *classification/regression tree* or *decision tree*"
   ]
  },
  {
   "cell_type": "markdown",
   "metadata": {
    "jp-MarkdownHeadingCollapsed": true
   },
   "source": [
    "## Growing Decision Trees: How to Fit\n",
    "- Building the predictive model iterates on the previous steps. This is roughly called the Iterative Dichotomizer (ID3) algorithm:\n",
    "  1. For all of the variables, determine the split for each that minimizes impurity\n",
    "  2. Pick the variable that achieves the lowest impurity overall --- this creates a single split in the tree. (We might use this variable again to build the tree.)\n",
    "  3. Repeat steps 1 and 2 *for each of the sub-populations created by our previous splits* until the impurity is 0 for the remaining sub-populations (they are perfectly separated by outcome)"
   ]
  },
  {
   "cell_type": "markdown",
   "metadata": {
    "jp-MarkdownHeadingCollapsed": true
   },
   "source": [
    "## Stopping Rules\n",
    "- Often, additional stopping rules are imposed to keep the decision tree from too greedily using data:\n",
    "  - Impose a limit on the depth of the tree: The maximum length of a path from the top to the bottom\n",
    "  - Impose a lower bound on the impurity that can appear at a terminal node: Don't allow the terminal nodes to be \"too pure\"\n",
    "  - Impose a limit on how few cases can appear at a terminal node: Don't allow the terminal nodes to be \"too small\"\n",
    "- Just as with the other algorithms, we would like to make this a more data-driven decision (we'll get to that)\n",
    "- If we are using the algorithm repeatedly in practice, we can \"prune\" back parts of the tree that are unreliable or augment them with new training data"
   ]
  },
  {
   "cell_type": "markdown",
   "metadata": {
    "jp-MarkdownHeadingCollapsed": true
   },
   "source": [
    "## Classification with Multiple Outcomes\n",
    "- In our example, Divorce was binary; in many situations, the outcome might have many categorical possibilities (non-cancerous/benign/malignant, bond ratings, etc.)\n",
    "- In this case, we add additional terms to the impurity measure that correspond to each category\n",
    "- Imagine a split creates groups $g=1, 2, ..., G$ over the categories $j=1, 2, ..., J$. Let $p_{jg}$ be the proportion of outcomes in group $g$ that take the value $j$\n",
    "- For each of the groups $g$ created by the split and each of the categories $j$ that occur in the target/outcome/dependent variable, we compute the Gini impurity $p_{jg}(1-p_{jg})$, then we sum over all groups and categories.\n",
    "- Formally, we split to minimize\n",
    "$$\n",
    "\\sum_{g=1}^G \\sum_{j =1}^J p_{jg}(1-p_{jg})\n",
    "$$"
   ]
  },
  {
   "cell_type": "markdown",
   "metadata": {
    "jp-MarkdownHeadingCollapsed": true
   },
   "source": [
    "## Regression Trees and Numeric Regressors\n",
    "- What if the outcome, $y$, is numeric rather than categorical?\n",
    "- We can use the MSE/SSE on either side of the split to choose where to split\n",
    "  1. Pick a split point, $s$ for the predictor/regressor $x$\n",
    "  2. On either side of the split, compute the mean values of the outcome, $\\bar{y}_L(s)$ and $\\bar{y}_R(s)$\n",
    "  3. Compute the SSE for the split $s$:\n",
    "$$\n",
    "\\text{SSE}(s) = \\sum_{x<s} (y(x) - \\bar{y}_L(s))^2 + \\sum_{x \\ge s} (y(x)-\\bar{y}_R(s))^2\n",
    "$$\n",
    "  4. Choose $s$ to minimize `SSE(s)`\n",
    "- As we move down the tree, the goal is to reduce the `SSE` along each split/path; stopping rules become critical with numeric outcomes  \n",
    "- Likewise, this allows the split variable $s$ to be numeric or categorical: Minimization over its values is typically easy to do (e.g. Assignment 1)"
   ]
  },
  {
   "cell_type": "markdown",
   "metadata": {
    "jp-MarkdownHeadingCollapsed": true
   },
   "source": [
    "## Data\n",
    "- Heart Failure (classification)\n",
    "- Airbnb Prices (regression)\n",
    "- VA Pretrial Data (either)\n",
    "- Online Orders Competition data\n",
    "- Credit Card Fraud Data"
   ]
  },
  {
   "cell_type": "markdown",
   "metadata": {
    "jp-MarkdownHeadingCollapsed": true
   },
   "source": [
    "## Entropy (An Alternative to Gini Impurity)\n",
    "- There are, unsurprisingly, dozens of algorithms and approaches to creating decision-trees!\n",
    "- The Gini Impurity is a completely valid way to approach the measurement of how \"mixed\" or \"impure\" a split is\n",
    "- Many algorithms default to using *entropy* rather than $\\sum_{g} p_g(1-p_g)$, defined as\n",
    "$$\n",
    "\\sum_g - p_g \\log_2(p_g)\n",
    "$$\n",
    "with the convention that $0 \\log_2(0) = 0$. \n",
    "- Mathematically and practically, the Gini Impurity and Entropy Measures are very similar\n",
    "- Entropy is a complex concept that tries to measure how much \"disorder\" there is in a system, or how much information you would need to describe its state; its additional mathematical properties motivate its use in decision trees"
   ]
  },
  {
   "cell_type": "markdown",
   "metadata": {
    "jp-MarkdownHeadingCollapsed": true
   },
   "source": [
    "## Conclusion: Decision Trees\n",
    "- There are dozens of variations on this concept (e.g. ID3, C4.5, CART)\n",
    "- They express highly non-linear relationships between target variables and data: This can be an advantage in some situations over linear models\n",
    "- Many people like how \"interpretable\" they are: This can be an advantage over $k$NN\n",
    "- They are famously sensitive to the data (a later algorithm, random forests, will address this problem)\n",
    "- They are based on discrete splits --- this is simple but works very well on \"chunky\"/\"unitless\" data like the divorce Likert scale questions\n",
    "- Prediction can be a challenge if the resulting model is \"too simple\" --- imagine a therapist asking two questions, telling you to get divorced, and asking for payment"
   ]
  }
 ],
 "metadata": {
  "kernelspec": {
   "display_name": "Python 3",
   "language": "python",
   "name": "python3"
  },
  "language_info": {
   "codemirror_mode": {
    "name": "ipython",
    "version": 3
   },
   "file_extension": ".py",
   "mimetype": "text/x-python",
   "name": "python",
   "nbconvert_exporter": "python",
   "pygments_lexer": "ipython3",
   "version": "3.8.8"
  }
 },
 "nbformat": 4,
 "nbformat_minor": 5
}
